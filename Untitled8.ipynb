{
 "cells": [
  {
   "cell_type": "code",
   "execution_count": 19,
   "id": "84d04624",
   "metadata": {},
   "outputs": [
    {
     "name": "stdout",
     "output_type": "stream",
     "text": [
      "(1,2,3)\n"
     ]
    }
   ],
   "source": [
    "class point3D :\n",
    "    def __init__(self,x,y,z):\n",
    "        self.x=x\n",
    "        self.y=y\n",
    "        self.z=z\n",
    "    def __str__ (self):\n",
    "        return f'({self.x},{self.y},{self.z})'\n",
    "\n",
    "\n",
    "my_point=point3D(1,2,3)\n",
    "print(my_point)"
   ]
  },
  {
   "cell_type": "code",
   "execution_count": null,
   "id": "77b441f6",
   "metadata": {},
   "outputs": [],
   "source": []
  },
  {
   "cell_type": "code",
   "execution_count": 3,
   "id": "e5e57a90",
   "metadata": {},
   "outputs": [
    {
     "name": "stdout",
     "output_type": "stream",
     "text": [
      "12\n"
     ]
    }
   ],
   "source": [
    "class rectangle:\n",
    "    def __init__(self,width,length):\n",
    "        self.width=width\n",
    "        self.length=length\n",
    "    def area (self):\n",
    "        return self.length*self.width\n",
    "    def perimeter(self):\n",
    "        return  2*(self.length+ self.width)\n",
    "        \n",
    "my_rectangle=rectangle(3, 4)\n",
    "print(my_rectangle.area())\n",
    "    \n",
    "                   \n",
    "\n",
    "        "
   ]
  },
  {
   "cell_type": "code",
   "execution_count": null,
   "id": "40fab07c",
   "metadata": {},
   "outputs": [],
   "source": []
  },
  {
   "cell_type": "code",
   "execution_count": 8,
   "id": "08e249c6",
   "metadata": {},
   "outputs": [
    {
     "data": {
      "text/plain": [
       "True"
      ]
     },
     "execution_count": 8,
     "metadata": {},
     "output_type": "execute_result"
    }
   ],
   "source": [
    "import math\n",
    "\n",
    "class cercle:\n",
    "    def __init__(self, origin_x, origin_y,radius):\n",
    "        self.origin_x=origin_x\n",
    "        self.origin_y=origin_y\n",
    "        self.radius=radius\n",
    "    def area(self):\n",
    "         return (self.radius**2)*math.pi\n",
    "        \n",
    "    def perimeter(self):\n",
    "        return (self.radius*2)*math.pi\n",
    "    def inside(self,x,y):\n",
    "        dist=(self.origin_x-x)**2+(self.origin_y-y)**2\n",
    "        dist=math.sqrt(dist)\n",
    "        return dist<=self.radius\n",
    "    \n",
    "cercle=cercle(0,0,3)\n",
    "cercle.inside(0,0)"
   ]
  },
  {
   "cell_type": "code",
   "execution_count": 13,
   "id": "22f2b883",
   "metadata": {},
   "outputs": [],
   "source": [
    "class bank:\n",
    "    def __init__(self,balance): \n",
    "        self.balance=balance \n",
    "    def deposit(self, montant):\n",
    "        self.balance=self.balance+montant\n",
    "    def withdraw (self,montant):\n",
    "        self.balance=self.balance-montant\n",
    "    def __repr__(self):\n",
    "        return f\"votre solde est {self.balance}\""
   ]
  },
  {
   "cell_type": "code",
   "execution_count": 14,
   "id": "26caaed2",
   "metadata": {},
   "outputs": [
    {
     "name": "stdout",
     "output_type": "stream",
     "text": [
      "votre solde est 3000\n"
     ]
    }
   ],
   "source": [
    "imane= bank(1500)\n",
    "imane.deposit(2000)\n",
    "imane.withdraw(500)\n",
    "print(imane)"
   ]
  },
  {
   "cell_type": "code",
   "execution_count": null,
   "id": "42fd5a90",
   "metadata": {},
   "outputs": [],
   "source": []
  }
 ],
 "metadata": {
  "kernelspec": {
   "display_name": "Python 3",
   "language": "python",
   "name": "python3"
  },
  "language_info": {
   "codemirror_mode": {
    "name": "ipython",
    "version": 3
   },
   "file_extension": ".py",
   "mimetype": "text/x-python",
   "name": "python",
   "nbconvert_exporter": "python",
   "pygments_lexer": "ipython3",
   "version": "3.8.8"
  }
 },
 "nbformat": 4,
 "nbformat_minor": 5
}
